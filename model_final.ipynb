{
  "cells": [
    {
      "cell_type": "code",
      "execution_count": 1,
      "metadata": {
        "id": "HWZWQxGBuiyY"
      },
      "outputs": [],
      "source": [
        "import os\n",
        "import PIL\n",
        "import shutil\n",
        "import pathlib\n",
        "import numpy as np\n",
        "import pandas as pd\n",
        "import matplotlib.pyplot as plt"
      ]
    },
    {
      "cell_type": "code",
      "execution_count": 2,
      "metadata": {
        "id": "eO2xxRTSL56b"
      },
      "outputs": [],
      "source": [
        "import tensorflow as tf\n",
        "from tensorflow.keras import layers\n",
        "from tensorflow.keras.models import Sequential,save_model"
      ]
    },
    {
      "cell_type": "code",
      "execution_count": 3,
      "metadata": {
        "id": "p4RJs-ywL-YD"
      },
      "outputs": [],
      "source": [
        "dataset_url = \"https://storage.googleapis.com/download.tensorflow.org/example_images/flower_photos.tgz\""
      ]
    },
    {
      "cell_type": "code",
      "execution_count": 4,
      "metadata": {
        "colab": {
          "base_uri": "https://localhost:8080/"
        },
        "id": "bxUXP0UNL-kK",
        "outputId": "5ad089e9-72d7-42c5-9b76-3bf732f4564f"
      },
      "outputs": [
        {
          "name": "stdout",
          "output_type": "stream",
          "text": [
            "Downloading data from https://storage.googleapis.com/download.tensorflow.org/example_images/flower_photos.tgz\n",
            "228813984/228813984 [==============================] - 2s 0us/step\n"
          ]
        }
      ],
      "source": [
        "data_dir = tf.keras.utils.get_file(\"flower_photos\", origin= dataset_url,untar=True)"
      ]
    },
    {
      "cell_type": "code",
      "execution_count": 5,
      "metadata": {
        "colab": {
          "base_uri": "https://localhost:8080/"
        },
        "id": "BqmM0KS2L-nz",
        "outputId": "0c9d86b9-ded1-416d-8701-fb17514ed23f"
      },
      "outputs": [
        {
          "data": {
            "text/plain": [
              "str"
            ]
          },
          "execution_count": 5,
          "metadata": {},
          "output_type": "execute_result"
        }
      ],
      "source": [
        "type(data_dir)"
      ]
    },
    {
      "cell_type": "code",
      "execution_count": 6,
      "metadata": {
        "id": "h9C7kjzxL-rG"
      },
      "outputs": [],
      "source": [
        "data_dir = pathlib.Path(data_dir)\n"
      ]
    },
    {
      "cell_type": "code",
      "execution_count": 7,
      "metadata": {
        "colab": {
          "base_uri": "https://localhost:8080/"
        },
        "id": "tQSKaPRuL-uY",
        "outputId": "ffb9e413-c289-4d60-e4c1-fab4d05fd223"
      },
      "outputs": [
        {
          "data": {
            "text/plain": [
              "3670"
            ]
          },
          "execution_count": 7,
          "metadata": {},
          "output_type": "execute_result"
        }
      ],
      "source": [
        "image_count =len(list(data_dir.glob(\"*/*.jpg\")))\n",
        "image_count"
      ]
    },
    {
      "cell_type": "code",
      "execution_count": 8,
      "metadata": {
        "id": "neejuZ4oMjM2"
      },
      "outputs": [],
      "source": [
        "batch_size = 32\n",
        "img_height =180\n",
        "img_width = 180"
      ]
    },
    {
      "cell_type": "code",
      "execution_count": 9,
      "metadata": {
        "colab": {
          "base_uri": "https://localhost:8080/"
        },
        "id": "LxJW5sEGMjQm",
        "outputId": "449376be-6989-4f7e-f770-6ebe42a4af83"
      },
      "outputs": [
        {
          "name": "stdout",
          "output_type": "stream",
          "text": [
            "Found 3670 files belonging to 5 classes.\n",
            "Using 2936 files for training.\n"
          ]
        }
      ],
      "source": [
        "train_ds = tf.keras.preprocessing.image_dataset_from_directory(\n",
        "    data_dir,\n",
        "    validation_split=0.2,\n",
        "    subset = \"training\",\n",
        "    seed = 123,\n",
        "    image_size=(img_height,img_width),\n",
        "    batch_size = batch_size\n",
        "\n",
        ")"
      ]
    },
    {
      "cell_type": "code",
      "execution_count": 10,
      "metadata": {
        "colab": {
          "base_uri": "https://localhost:8080/"
        },
        "id": "waUNiHr8MjUA",
        "outputId": "39d845c5-64fc-43e4-ae00-2ce272604401"
      },
      "outputs": [
        {
          "name": "stdout",
          "output_type": "stream",
          "text": [
            "Found 3670 files belonging to 5 classes.\n",
            "Using 734 files for validation.\n"
          ]
        }
      ],
      "source": [
        "vals_ds = tf.keras.preprocessing.image_dataset_from_directory(\n",
        "    data_dir,\n",
        "    validation_split=0.2,\n",
        "    subset = \"validation\",\n",
        "    seed = 123,\n",
        "    image_size=(img_height,img_width),\n",
        "    batch_size = batch_size\n",
        ")"
      ]
    },
    {
      "cell_type": "code",
      "execution_count": 11,
      "metadata": {
        "colab": {
          "base_uri": "https://localhost:8080/"
        },
        "id": "gICjHqyFMxyj",
        "outputId": "9755142f-eb86-4f01-c794-1d02b0729999"
      },
      "outputs": [
        {
          "data": {
            "text/plain": [
              "3670"
            ]
          },
          "execution_count": 11,
          "metadata": {},
          "output_type": "execute_result"
        }
      ],
      "source": [
        "2936 + 734"
      ]
    },
    {
      "cell_type": "code",
      "execution_count": 12,
      "metadata": {
        "colab": {
          "base_uri": "https://localhost:8080/"
        },
        "id": "9078MFrjMx3g",
        "outputId": "96bb7544-95a6-452b-c144-4c93d2ef500b"
      },
      "outputs": [
        {
          "name": "stdout",
          "output_type": "stream",
          "text": [
            "class_names: ['daisy', 'dandelion', 'roses', 'sunflowers', 'tulips']\n"
          ]
        }
      ],
      "source": [
        "class_names = train_ds.class_names\n",
        "print(\"class_names:\",class_names)"
      ]
    },
    {
      "cell_type": "code",
      "execution_count": 13,
      "metadata": {
        "id": "_NVJ6PqhMx7H"
      },
      "outputs": [],
      "source": [
        "\n",
        "train_ds = train_ds.cache().shuffle(1000)\n",
        "#help in retrieve process and store output after 1 epoch\n",
        "vals_ds=vals_ds.cache()"
      ]
    },
    {
      "cell_type": "code",
      "execution_count": 14,
      "metadata": {
        "colab": {
          "base_uri": "https://localhost:8080/"
        },
        "id": "RbF0Et8LNFSs",
        "outputId": "5735d622-10ed-4443-bdb2-6092723961d5"
      },
      "outputs": [
        {
          "data": {
            "text/plain": [
              "5"
            ]
          },
          "execution_count": 14,
          "metadata": {},
          "output_type": "execute_result"
        }
      ],
      "source": [
        "numclasses = len(class_names)\n",
        "numclasses"
      ]
    },
    {
      "cell_type": "code",
      "execution_count": 15,
      "metadata": {
        "id": "rDZOFkV3NFct"
      },
      "outputs": [],
      "source": [
        "# modeling\n",
        "model = Sequential([\n",
        "    layers.experimental.preprocessing.Rescaling(1./255,input_shape=(img_height,img_width,3)),\n",
        "\n",
        "    layers.Conv2D(16,3,padding= \"same\" , activation=\"relu\"),\n",
        "    layers.MaxPool2D(),\n",
        "\n",
        "    layers.Conv2D(32,3,padding= \"same\" , activation=\"relu\"),\n",
        "    layers.MaxPool2D(),\n",
        "\n",
        "    layers.Conv2D(64,3,padding= \"same\" , activation=\"relu\"),\n",
        "    layers.MaxPool2D(),\n",
        "\n",
        "    layers.Flatten(),\n",
        "\n",
        "    layers.Dense(128,activation=\"relu\"),\n",
        "\n",
        "    layers.Dense(numclasses)\n",
        "\n",
        "])"
      ]
    },
    {
      "cell_type": "code",
      "execution_count": 16,
      "metadata": {
        "id": "qHZs9I86NFgY"
      },
      "outputs": [],
      "source": [
        "model.compile(\n",
        "    optimizer = \"adam\",\n",
        "    loss = tf.keras.losses.SparseCategoricalCrossentropy(from_logits=True,reduction='sum_over_batch_size'),#works as activation function\n",
        "    metrics = ['accuracy']\n",
        ")"
      ]
    },
    {
      "cell_type": "code",
      "execution_count": 17,
      "metadata": {
        "colab": {
          "base_uri": "https://localhost:8080/"
        },
        "id": "82Q0m1bbNFjy",
        "outputId": "a10a9c46-6663-44c4-a043-99151009dc87"
      },
      "outputs": [
        {
          "name": "stdout",
          "output_type": "stream",
          "text": [
            "Model: \"sequential\"\n",
            "_________________________________________________________________\n",
            " Layer (type)                Output Shape              Param #   \n",
            "=================================================================\n",
            " rescaling (Rescaling)       (None, 180, 180, 3)       0         \n",
            "                                                                 \n",
            " conv2d (Conv2D)             (None, 180, 180, 16)      448       \n",
            "                                                                 \n",
            " max_pooling2d (MaxPooling2  (None, 90, 90, 16)        0         \n",
            " D)                                                              \n",
            "                                                                 \n",
            " conv2d_1 (Conv2D)           (None, 90, 90, 32)        4640      \n",
            "                                                                 \n",
            " max_pooling2d_1 (MaxPoolin  (None, 45, 45, 32)        0         \n",
            " g2D)                                                            \n",
            "                                                                 \n",
            " conv2d_2 (Conv2D)           (None, 45, 45, 64)        18496     \n",
            "                                                                 \n",
            " max_pooling2d_2 (MaxPoolin  (None, 22, 22, 64)        0         \n",
            " g2D)                                                            \n",
            "                                                                 \n",
            " flatten (Flatten)           (None, 30976)             0         \n",
            "                                                                 \n",
            " dense (Dense)               (None, 128)               3965056   \n",
            "                                                                 \n",
            " dense_1 (Dense)             (None, 5)                 645       \n",
            "                                                                 \n",
            "=================================================================\n",
            "Total params: 3989285 (15.22 MB)\n",
            "Trainable params: 3989285 (15.22 MB)\n",
            "Non-trainable params: 0 (0.00 Byte)\n",
            "_________________________________________________________________\n",
            "None\n"
          ]
        }
      ],
      "source": [
        "print(model.summary())"
      ]
    },
    {
      "cell_type": "code",
      "execution_count": 18,
      "metadata": {
        "colab": {
          "base_uri": "https://localhost:8080/"
        },
        "id": "oIY4TivPNdeh",
        "outputId": "3e5b5006-8004-450b-b59d-a859f59d8bc6"
      },
      "outputs": [
        {
          "name": "stdout",
          "output_type": "stream",
          "text": [
            "Epoch 1/50\n",
            "92/92 [==============================] - 19s 41ms/step - loss: 1.3043 - accuracy: 0.4349 - val_loss: 1.0867 - val_accuracy: 0.5695\n",
            "Epoch 2/50\n",
            "92/92 [==============================] - 2s 21ms/step - loss: 0.9982 - accuracy: 0.6015 - val_loss: 1.0385 - val_accuracy: 0.6035\n",
            "Epoch 3/50\n",
            "92/92 [==============================] - 2s 21ms/step - loss: 0.7882 - accuracy: 0.6965 - val_loss: 0.8921 - val_accuracy: 0.6376\n",
            "Epoch 4/50\n",
            "92/92 [==============================] - 2s 23ms/step - loss: 0.5926 - accuracy: 0.7847 - val_loss: 0.9932 - val_accuracy: 0.6431\n",
            "Epoch 5/50\n",
            "92/92 [==============================] - 2s 22ms/step - loss: 0.3743 - accuracy: 0.8644 - val_loss: 0.9860 - val_accuracy: 0.6676\n",
            "Epoch 6/50\n",
            "92/92 [==============================] - 2s 21ms/step - loss: 0.2281 - accuracy: 0.9257 - val_loss: 1.1520 - val_accuracy: 0.6662\n",
            "Epoch 7/50\n",
            "92/92 [==============================] - 2s 21ms/step - loss: 0.1287 - accuracy: 0.9619 - val_loss: 1.2485 - val_accuracy: 0.6553\n",
            "Epoch 8/50\n",
            "92/92 [==============================] - 2s 21ms/step - loss: 0.0666 - accuracy: 0.9826 - val_loss: 1.6507 - val_accuracy: 0.6390\n",
            "Epoch 9/50\n",
            "92/92 [==============================] - 2s 21ms/step - loss: 0.0357 - accuracy: 0.9915 - val_loss: 1.7528 - val_accuracy: 0.6499\n",
            "Epoch 10/50\n",
            "92/92 [==============================] - 2s 23ms/step - loss: 0.0222 - accuracy: 0.9966 - val_loss: 1.8059 - val_accuracy: 0.6403\n",
            "Epoch 11/50\n",
            "92/92 [==============================] - 2s 22ms/step - loss: 0.0597 - accuracy: 0.9826 - val_loss: 1.9079 - val_accuracy: 0.6226\n",
            "Epoch 12/50\n",
            "92/92 [==============================] - 2s 21ms/step - loss: 0.0559 - accuracy: 0.9840 - val_loss: 1.8811 - val_accuracy: 0.6649\n",
            "Epoch 13/50\n",
            "92/92 [==============================] - 2s 21ms/step - loss: 0.0443 - accuracy: 0.9881 - val_loss: 1.8487 - val_accuracy: 0.6308\n",
            "Epoch 14/50\n",
            "92/92 [==============================] - 2s 21ms/step - loss: 0.0277 - accuracy: 0.9925 - val_loss: 1.9272 - val_accuracy: 0.6703\n",
            "Epoch 15/50\n",
            "92/92 [==============================] - 2s 21ms/step - loss: 0.0067 - accuracy: 0.9993 - val_loss: 2.0162 - val_accuracy: 0.6676\n",
            "Epoch 16/50\n",
            "92/92 [==============================] - 2s 22ms/step - loss: 0.0011 - accuracy: 1.0000 - val_loss: 2.1353 - val_accuracy: 0.6580\n",
            "Epoch 17/50\n",
            "92/92 [==============================] - 2s 23ms/step - loss: 5.7722e-04 - accuracy: 1.0000 - val_loss: 2.2208 - val_accuracy: 0.6608\n",
            "Epoch 18/50\n",
            "92/92 [==============================] - 2s 21ms/step - loss: 4.0010e-04 - accuracy: 1.0000 - val_loss: 2.2735 - val_accuracy: 0.6621\n",
            "Epoch 19/50\n",
            "92/92 [==============================] - 2s 21ms/step - loss: 3.1200e-04 - accuracy: 1.0000 - val_loss: 2.3390 - val_accuracy: 0.6608\n",
            "Epoch 20/50\n",
            "92/92 [==============================] - 2s 21ms/step - loss: 2.6063e-04 - accuracy: 1.0000 - val_loss: 2.3865 - val_accuracy: 0.6635\n",
            "Epoch 21/50\n",
            "92/92 [==============================] - 2s 21ms/step - loss: 2.1733e-04 - accuracy: 1.0000 - val_loss: 2.4113 - val_accuracy: 0.6621\n",
            "Epoch 22/50\n",
            "92/92 [==============================] - 2s 22ms/step - loss: 1.8332e-04 - accuracy: 1.0000 - val_loss: 2.4460 - val_accuracy: 0.6635\n",
            "Epoch 23/50\n",
            "92/92 [==============================] - 2s 22ms/step - loss: 1.6067e-04 - accuracy: 1.0000 - val_loss: 2.4762 - val_accuracy: 0.6608\n",
            "Epoch 24/50\n",
            "92/92 [==============================] - 2s 21ms/step - loss: 1.4065e-04 - accuracy: 1.0000 - val_loss: 2.5134 - val_accuracy: 0.6649\n",
            "Epoch 25/50\n",
            "92/92 [==============================] - 2s 20ms/step - loss: 1.2490e-04 - accuracy: 1.0000 - val_loss: 2.5353 - val_accuracy: 0.6649\n",
            "Epoch 26/50\n",
            "92/92 [==============================] - 2s 21ms/step - loss: 1.1099e-04 - accuracy: 1.0000 - val_loss: 2.5615 - val_accuracy: 0.6662\n",
            "Epoch 27/50\n",
            "92/92 [==============================] - 2s 21ms/step - loss: 9.9257e-05 - accuracy: 1.0000 - val_loss: 2.5948 - val_accuracy: 0.6689\n",
            "Epoch 28/50\n",
            "92/92 [==============================] - 2s 24ms/step - loss: 9.0331e-05 - accuracy: 1.0000 - val_loss: 2.6170 - val_accuracy: 0.6689\n",
            "Epoch 29/50\n",
            "92/92 [==============================] - 2s 21ms/step - loss: 8.1483e-05 - accuracy: 1.0000 - val_loss: 2.6364 - val_accuracy: 0.6689\n",
            "Epoch 30/50\n",
            "92/92 [==============================] - 2s 21ms/step - loss: 7.4822e-05 - accuracy: 1.0000 - val_loss: 2.6592 - val_accuracy: 0.6676\n",
            "Epoch 31/50\n",
            "92/92 [==============================] - 2s 21ms/step - loss: 6.7550e-05 - accuracy: 1.0000 - val_loss: 2.6847 - val_accuracy: 0.6676\n",
            "Epoch 32/50\n",
            "92/92 [==============================] - 2s 23ms/step - loss: 6.1581e-05 - accuracy: 1.0000 - val_loss: 2.7035 - val_accuracy: 0.6676\n",
            "Epoch 33/50\n",
            "92/92 [==============================] - 2s 23ms/step - loss: 5.6401e-05 - accuracy: 1.0000 - val_loss: 2.7218 - val_accuracy: 0.6676\n",
            "Epoch 34/50\n",
            "92/92 [==============================] - 2s 21ms/step - loss: 5.2001e-05 - accuracy: 1.0000 - val_loss: 2.7414 - val_accuracy: 0.6676\n",
            "Epoch 35/50\n",
            "92/92 [==============================] - 2s 21ms/step - loss: 4.7816e-05 - accuracy: 1.0000 - val_loss: 2.7654 - val_accuracy: 0.6676\n",
            "Epoch 36/50\n",
            "92/92 [==============================] - 2s 23ms/step - loss: 4.4261e-05 - accuracy: 1.0000 - val_loss: 2.7837 - val_accuracy: 0.6676\n",
            "Epoch 37/50\n",
            "92/92 [==============================] - 2s 21ms/step - loss: 4.1048e-05 - accuracy: 1.0000 - val_loss: 2.8004 - val_accuracy: 0.6676\n",
            "Epoch 38/50\n",
            "92/92 [==============================] - 2s 21ms/step - loss: 3.7895e-05 - accuracy: 1.0000 - val_loss: 2.8204 - val_accuracy: 0.6662\n",
            "Epoch 39/50\n",
            "92/92 [==============================] - 2s 24ms/step - loss: 3.5019e-05 - accuracy: 1.0000 - val_loss: 2.8379 - val_accuracy: 0.6676\n",
            "Epoch 40/50\n",
            "92/92 [==============================] - 2s 21ms/step - loss: 3.2420e-05 - accuracy: 1.0000 - val_loss: 2.8592 - val_accuracy: 0.6676\n",
            "Epoch 41/50\n",
            "92/92 [==============================] - 2s 21ms/step - loss: 3.0057e-05 - accuracy: 1.0000 - val_loss: 2.8768 - val_accuracy: 0.6662\n",
            "Epoch 42/50\n",
            "92/92 [==============================] - 2s 21ms/step - loss: 2.7885e-05 - accuracy: 1.0000 - val_loss: 2.8925 - val_accuracy: 0.6689\n",
            "Epoch 43/50\n",
            "92/92 [==============================] - 2s 21ms/step - loss: 2.6096e-05 - accuracy: 1.0000 - val_loss: 2.9055 - val_accuracy: 0.6689\n",
            "Epoch 44/50\n",
            "92/92 [==============================] - 2s 21ms/step - loss: 2.4296e-05 - accuracy: 1.0000 - val_loss: 2.9291 - val_accuracy: 0.6649\n",
            "Epoch 45/50\n",
            "92/92 [==============================] - 2s 24ms/step - loss: 2.2697e-05 - accuracy: 1.0000 - val_loss: 2.9426 - val_accuracy: 0.6676\n",
            "Epoch 46/50\n",
            "92/92 [==============================] - 2s 21ms/step - loss: 2.1210e-05 - accuracy: 1.0000 - val_loss: 2.9579 - val_accuracy: 0.6649\n",
            "Epoch 47/50\n",
            "92/92 [==============================] - 2s 21ms/step - loss: 1.9898e-05 - accuracy: 1.0000 - val_loss: 2.9717 - val_accuracy: 0.6676\n",
            "Epoch 48/50\n",
            "92/92 [==============================] - 2s 21ms/step - loss: 1.8634e-05 - accuracy: 1.0000 - val_loss: 2.9937 - val_accuracy: 0.6689\n",
            "Epoch 49/50\n",
            "92/92 [==============================] - 2s 21ms/step - loss: 1.7497e-05 - accuracy: 1.0000 - val_loss: 3.0114 - val_accuracy: 0.6676\n",
            "Epoch 50/50\n",
            "92/92 [==============================] - 2s 21ms/step - loss: 1.6448e-05 - accuracy: 1.0000 - val_loss: 3.0217 - val_accuracy: 0.6676\n"
          ]
        }
      ],
      "source": [
        "epochs = 50\n",
        "history = model.fit(\n",
        "    train_ds,\n",
        "    validation_data = vals_ds,\n",
        "    epochs = epochs\n",
        ")"
      ]
    },
    {
      "cell_type": "code",
      "execution_count": 19,
      "metadata": {
        "id": "haK7A1sjNdii"
      },
      "outputs": [],
      "source": [
        "acc = history.history['accuracy']\n",
        "val_acc = history.history['val_accuracy']"
      ]
    },
    {
      "cell_type": "code",
      "execution_count": 20,
      "metadata": {
        "id": "p2EwEGuVNdmT"
      },
      "outputs": [],
      "source": [
        "loss= history.history['loss']\n",
        "val_loss = history.history['val_loss']"
      ]
    },
    {
      "cell_type": "code",
      "execution_count": 21,
      "metadata": {
        "colab": {
          "base_uri": "https://localhost:8080/"
        },
        "id": "NUA5PT9yNdpt",
        "outputId": "868ec1ff-5d3c-4fb9-8e9b-c167a85e9f82"
      },
      "outputs": [
        {
          "data": {
            "text/plain": [
              "range(0, 50)"
            ]
          },
          "execution_count": 21,
          "metadata": {},
          "output_type": "execute_result"
        }
      ],
      "source": [
        "epochs_range= range(epochs)\n",
        "epochs_range"
      ]
    },
    {
      "cell_type": "code",
      "execution_count": 22,
      "metadata": {
        "colab": {
          "base_uri": "https://localhost:8080/",
          "height": 699
        },
        "id": "qb3LiH2VNrh5",
        "outputId": "d22508be-195a-4b89-9a89-8d1964983a28"
      },
      "outputs": [
        {
          "data": {
            "image/png": "[encoded data removed]",
            "text/plain": [
              "<Figure size 800x800 with 1 Axes>"
            ]
          },
          "metadata": {},
          "output_type": "display_data"
        }
      ],
      "source": [
        "plt.figure(figsize=(8,8))\n",
        "plt.subplot(1,2,1)\n",
        "plt.plot(epochs_range,acc,label=\"training Accuracy\")\n",
        "plt.plot(epochs_range,val_acc,label=\"Validation Accuracy\")\n",
        "plt.legend(loc=\"lower right\")\n",
        "plt.title(\"training and validation accuracy\")\n",
        "plt.show()"
      ]
    },
    {
      "cell_type": "code",
      "execution_count": 23,
      "metadata": {
        "colab": {
          "base_uri": "https://localhost:8080/",
          "height": 699
        },
        "id": "W_epQTOONrlW",
        "outputId": "e11979c2-155d-46b4-eec1-4958cc2ab66b"
      },
      "outputs": [
        {
          "data": {
            "image/png": "[encoded data removed]",
            "text/plain": [
              "<Figure size 800x800 with 1 Axes>"
            ]
          },
          "metadata": {},
          "output_type": "display_data"
        }
      ],
      "source": [
        "plt.figure(figsize=(8,8))\n",
        "plt.subplot(1,2,1)\n",
        "plt.plot(epochs_range,loss,label=\"training loss\")\n",
        "plt.plot(epochs_range,val_loss,label=\"Validation loss\")\n",
        "plt.legend(loc=\"upper right\")\n",
        "plt.title(\"training and validation loss\")\n",
        "plt.show()"
      ]
    },
    {
      "cell_type": "code",
      "execution_count": 24,
      "metadata": {
        "colab": {
          "base_uri": "https://localhost:8080/"
        },
        "id": "pTmm7ruZNrpI",
        "outputId": "6d2c89bf-e5f9-48ea-e388-48f384849dcd"
      },
      "outputs": [
        {
          "name": "stdout",
          "output_type": "stream",
          "text": [
            "model_saved_succesfully\n"
          ]
        },
        {
          "name": "stderr",
          "output_type": "stream",
          "text": [
            "<ipython-input-24-e42c8a1d0824>:1: UserWarning: You are saving your model as an HDF5 file via `model.save()`. This file format is considered legacy. We recommend using instead the native Keras format, e.g. `model.save('my_model.keras')`.\n",
            "  save_model(model,\"flower_model_trained.hdf5\")\n"
          ]
        }
      ],
      "source": [
        "save_model(model,\"flower_model_trained.hdf5\")\n",
        "print(\"model_saved_succesfully\")"
      ]
    },
    {
      "cell_type": "code",
      "execution_count": 24,
      "metadata": {
        "id": "yadmYwgJNrsv"
      },
      "outputs": [],
      "source": []
    }
  ],
  "metadata": {
    "accelerator": "GPU",
    "colab": {
      "gpuType": "T4",
      "provenance": []
    },
    "kernelspec": {
      "display_name": "Python 3",
      "name": "python3"
    },
    "language_info": {
      "name": "python"
    }
  },
  "nbformat": 4,
  "nbformat_minor": 0
}
